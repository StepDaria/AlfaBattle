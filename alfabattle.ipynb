{
  "metadata": {
    "kernelspec": {
      "language": "python",
      "display_name": "Python 3",
      "name": "python3"
    },
    "language_info": {
      "name": "python",
      "version": "3.7.12",
      "mimetype": "text/x-python",
      "codemirror_mode": {
        "name": "ipython",
        "version": 3
      },
      "pygments_lexer": "ipython3",
      "nbconvert_exporter": "python",
      "file_extension": ".py"
    },
    "colab": {
      "provenance": [],
      "include_colab_link": true
    }
  },
  "nbformat_minor": 0,
  "nbformat": 4,
  "cells": [
    {
      "cell_type": "markdown",
      "metadata": {
        "id": "view-in-github",
        "colab_type": "text"
      },
      "source": [
        "<a href=\"https://colab.research.google.com/github/StepDaria/AlfaBattle/blob/main/alfabattle.ipynb\" target=\"_parent\"><img src=\"https://colab.research.google.com/assets/colab-badge.svg\" alt=\"Open In Colab\"/></a>"
      ]
    },
    {
      "cell_type": "markdown",
      "source": [
        "# PREPARATION"
      ],
      "metadata": {
        "id": "rgyP3HvsBT2j"
      }
    },
    {
      "cell_type": "code",
      "source": [
        "import pandas as pd\n",
        "import gc\n",
        "import tqdm\n",
        "import os\n",
        "import numpy as np\n",
        "from sklearn.model_selection import StratifiedKFold\n",
        "import lightgbm as lgb\n",
        "from sklearn.metrics import roc_auc_score\n",
        "from sklearn.preprocessing import StandardScaler\n",
        "import matplotlib.pyplot as plt\n",
        "\n",
        "pd.set_option('display.max_columns', None)\n",
        "\n",
        "import warnings\n",
        "warnings.filterwarnings(\"ignore\")"
      ],
      "metadata": {
        "_uuid": "8f2839f25d086af736a60e9eeb907d3b93b6e0e5",
        "_cell_guid": "b1076dfc-b9ad-4769-8c92-a6c4dae69d19",
        "execution": {
          "iopub.status.busy": "2022-07-07T15:00:32.290187Z",
          "iopub.execute_input": "2022-07-07T15:00:32.290613Z",
          "iopub.status.idle": "2022-07-07T15:00:34.859240Z",
          "shell.execute_reply.started": "2022-07-07T15:00:32.290580Z",
          "shell.execute_reply": "2022-07-07T15:00:34.856337Z"
        },
        "trusted": true,
        "id": "weDHOoWuBT2l",
        "outputId": "ac4b6907-fd0e-4ccb-a1c8-d36fa16cac36"
      },
      "execution_count": null,
      "outputs": [
        {
          "output_type": "display_data",
          "data": {
            "text/plain": "<IPython.core.display.HTML object>",
            "text/html": "<style type='text/css'>\n.datatable table.frame { margin-bottom: 0; }\n.datatable table.frame thead { border-bottom: none; }\n.datatable table.frame tr.coltypes td {  color: #FFFFFF;  line-height: 6px;  padding: 0 0.5em;}\n.datatable .bool    { background: #DDDD99; }\n.datatable .object  { background: #565656; }\n.datatable .int     { background: #5D9E5D; }\n.datatable .float   { background: #4040CC; }\n.datatable .str     { background: #CC4040; }\n.datatable .time    { background: #40CC40; }\n.datatable .row_index {  background: var(--jp-border-color3);  border-right: 1px solid var(--jp-border-color0);  color: var(--jp-ui-font-color3);  font-size: 9px;}\n.datatable .frame tbody td { text-align: left; }\n.datatable .frame tr.coltypes .row_index {  background: var(--jp-border-color0);}\n.datatable th:nth-child(2) { padding-left: 12px; }\n.datatable .hellipsis {  color: var(--jp-cell-editor-border-color);}\n.datatable .vellipsis {  background: var(--jp-layout-color0);  color: var(--jp-cell-editor-border-color);}\n.datatable .na {  color: var(--jp-cell-editor-border-color);  font-size: 80%;}\n.datatable .sp {  opacity: 0.25;}\n.datatable .footer { font-size: 9px; }\n.datatable .frame_dimensions {  background: var(--jp-border-color3);  border-top: 1px solid var(--jp-border-color0);  color: var(--jp-ui-font-color3);  display: inline-block;  opacity: 0.6;  padding: 1px 10px 1px 5px;}\n</style>\n"
          },
          "metadata": {}
        }
      ]
    },
    {
      "cell_type": "code",
      "source": [
        "PATH_TO_WORKDIR = '../working/'\n",
        "\n",
        "PATH_TO_TRAIN_TARGET = '../input/alpha-battle/alfabattle2_sand_alfabattle2_train_target.csv'\n",
        "PATH_TO_TEST_TARGET = '../input/alpha-battle-test/alfabattle2_sand_alfabattle2_test_target_contest.csv'\n",
        "\n",
        "PATH_TO_TRAIN = '../input/alpha-battle/alfabattle2_sand_alfabattle2_train_transactions_contest/train_transactions_contest'\n",
        "\n",
        "PATH_TO_TEST = '../input/alpha-battle/alfabattle2_sand_alfabattle2_test_transactions_contest/test_transactions_contest'"
      ],
      "metadata": {
        "execution": {
          "iopub.status.busy": "2022-07-07T15:00:34.862407Z",
          "iopub.execute_input": "2022-07-07T15:00:34.863067Z",
          "iopub.status.idle": "2022-07-07T15:00:34.871925Z",
          "shell.execute_reply.started": "2022-07-07T15:00:34.863001Z",
          "shell.execute_reply": "2022-07-07T15:00:34.870372Z"
        },
        "trusted": true,
        "id": "SrQSaEAZBT2m"
      },
      "execution_count": null,
      "outputs": []
    },
    {
      "cell_type": "markdown",
      "source": [
        "# EDA"
      ],
      "metadata": {
        "id": "ilbHkpZ-BT2n"
      }
    },
    {
      "cell_type": "markdown",
      "source": [
        "## Target"
      ],
      "metadata": {
        "id": "RJCLe1lCBT2n"
      }
    },
    {
      "cell_type": "code",
      "source": [
        "train_target = pd.read_csv(PATH_TO_TRAIN_TARGET)\n",
        "train_target.head()"
      ],
      "metadata": {
        "execution": {
          "iopub.status.busy": "2022-07-07T13:21:24.246152Z",
          "iopub.execute_input": "2022-07-07T13:21:24.246817Z",
          "iopub.status.idle": "2022-07-07T13:21:24.654412Z",
          "shell.execute_reply.started": "2022-07-07T13:21:24.246782Z",
          "shell.execute_reply": "2022-07-07T13:21:24.653229Z"
        },
        "trusted": true,
        "id": "_eKGGuMKBT2n",
        "outputId": "06128d36-6e34-42b3-dac8-7fbd3255cd3d"
      },
      "execution_count": null,
      "outputs": [
        {
          "execution_count": 3,
          "output_type": "execute_result",
          "data": {
            "text/plain": "   app_id  product  flag\n0       0        3     0\n1       1        1     0\n2       2        1     0\n3       3        1     0\n4       4        1     0",
            "text/html": "<div>\n<style scoped>\n    .dataframe tbody tr th:only-of-type {\n        vertical-align: middle;\n    }\n\n    .dataframe tbody tr th {\n        vertical-align: top;\n    }\n\n    .dataframe thead th {\n        text-align: right;\n    }\n</style>\n<table border=\"1\" class=\"dataframe\">\n  <thead>\n    <tr style=\"text-align: right;\">\n      <th></th>\n      <th>app_id</th>\n      <th>product</th>\n      <th>flag</th>\n    </tr>\n  </thead>\n  <tbody>\n    <tr>\n      <th>0</th>\n      <td>0</td>\n      <td>3</td>\n      <td>0</td>\n    </tr>\n    <tr>\n      <th>1</th>\n      <td>1</td>\n      <td>1</td>\n      <td>0</td>\n    </tr>\n    <tr>\n      <th>2</th>\n      <td>2</td>\n      <td>1</td>\n      <td>0</td>\n    </tr>\n    <tr>\n      <th>3</th>\n      <td>3</td>\n      <td>1</td>\n      <td>0</td>\n    </tr>\n    <tr>\n      <th>4</th>\n      <td>4</td>\n      <td>1</td>\n      <td>0</td>\n    </tr>\n  </tbody>\n</table>\n</div>"
          },
          "metadata": {}
        }
      ]
    },
    {
      "cell_type": "code",
      "source": [
        "train_target['flag'].value_counts('mean').plot.bar();\n",
        "train_target['flag'].value_counts('mean')"
      ],
      "metadata": {
        "execution": {
          "iopub.status.busy": "2022-07-07T13:22:56.337035Z",
          "iopub.execute_input": "2022-07-07T13:22:56.337445Z",
          "iopub.status.idle": "2022-07-07T13:22:56.522216Z",
          "shell.execute_reply.started": "2022-07-07T13:22:56.337413Z",
          "shell.execute_reply": "2022-07-07T13:22:56.520959Z"
        },
        "trusted": true,
        "id": "EKVQ1IElBT2n",
        "outputId": "f55ec6e0-8454-4f6e-f15f-11e085349fb7"
      },
      "execution_count": null,
      "outputs": [
        {
          "execution_count": 9,
          "output_type": "execute_result",
          "data": {
            "text/plain": "0    0.972425\n1    0.027575\nName: flag, dtype: float64"
          },
          "metadata": {}
        },
        {
          "output_type": "display_data",
          "data": {
            "text/plain": "<Figure size 432x288 with 1 Axes>",
            "image/png": "[encoded data removed]"
          },
          "metadata": {
            "needs_background": "light"
          }
        }
      ]
    },
    {
      "cell_type": "markdown",
      "source": [
        "Несбалансированность"
      ],
      "metadata": {
        "id": "tt69-YmrBT2o"
      }
    },
    {
      "cell_type": "code",
      "source": [
        "train_target['product'].value_counts('mean').plot.bar();\n",
        "train_target['product'].value_counts('mean')"
      ],
      "metadata": {
        "execution": {
          "iopub.status.busy": "2022-07-07T13:24:29.170871Z",
          "iopub.execute_input": "2022-07-07T13:24:29.171346Z",
          "iopub.status.idle": "2022-07-07T13:24:29.349288Z",
          "shell.execute_reply.started": "2022-07-07T13:24:29.171304Z",
          "shell.execute_reply": "2022-07-07T13:24:29.347938Z"
        },
        "trusted": true,
        "id": "hRd9rFi-BT2o",
        "outputId": "d2fb5095-9e75-4086-9d29-28e8f7380083"
      },
      "execution_count": null,
      "outputs": [
        {
          "execution_count": 15,
          "output_type": "execute_result",
          "data": {
            "text/plain": "0    0.521502\n1    0.273356\n2    0.079357\n3    0.066899\n4    0.058886\nName: product, dtype: float64"
          },
          "metadata": {}
        },
        {
          "output_type": "display_data",
          "data": {
            "text/plain": "<Figure size 432x288 with 1 Axes>",
            "image/png": "[encoded data removed]"
          },
          "metadata": {
            "needs_background": "light"
          }
        }
      ]
    },
    {
      "cell_type": "markdown",
      "source": [
        "4 вида кредитных продуктов"
      ],
      "metadata": {
        "id": "2D2WBpF2BT2o"
      }
    },
    {
      "cell_type": "code",
      "source": [
        "train_target.groupby(['product'])['flag'].mean().plot.bar();\n",
        "train_target.groupby(['product'])['flag'].mean()"
      ],
      "metadata": {
        "execution": {
          "iopub.status.busy": "2022-07-07T13:25:50.259599Z",
          "iopub.execute_input": "2022-07-07T13:25:50.260030Z",
          "iopub.status.idle": "2022-07-07T13:25:50.485176Z",
          "shell.execute_reply.started": "2022-07-07T13:25:50.259995Z",
          "shell.execute_reply": "2022-07-07T13:25:50.484268Z"
        },
        "trusted": true,
        "id": "mn8w4BDNBT2p",
        "outputId": "2b4db1bd-035a-4f78-8934-885bfe0785d8"
      },
      "execution_count": null,
      "outputs": [
        {
          "execution_count": 18,
          "output_type": "execute_result",
          "data": {
            "text/plain": "product\n0    0.022836\n1    0.025032\n2    0.070641\n3    0.019821\n4    0.032121\nName: flag, dtype: float64"
          },
          "metadata": {}
        },
        {
          "output_type": "display_data",
          "data": {
            "text/plain": "<Figure size 432x288 with 1 Axes>",
            "image/png": "[encoded data removed]"
          },
          "metadata": {
            "needs_background": "light"
          }
        }
      ]
    },
    {
      "cell_type": "markdown",
      "source": [
        "Неравномерное распределение дефолта по продуктам"
      ],
      "metadata": {
        "id": "suyYXh0EBT2p"
      }
    },
    {
      "cell_type": "code",
      "source": [
        "train_target.groupby(['product'])['flag'].sum().plot.bar();\n",
        "train_target.groupby(['product'])['flag'].sum()"
      ],
      "metadata": {
        "execution": {
          "iopub.status.busy": "2022-07-07T13:26:44.293017Z",
          "iopub.execute_input": "2022-07-07T13:26:44.293399Z",
          "iopub.status.idle": "2022-07-07T13:26:44.518917Z",
          "shell.execute_reply.started": "2022-07-07T13:26:44.293369Z",
          "shell.execute_reply": "2022-07-07T13:26:44.517946Z"
        },
        "trusted": true,
        "id": "6YN8cXRBBT2p",
        "outputId": "ff511ce2-8d72-4ed8-9538-acf892f21666"
      },
      "execution_count": null,
      "outputs": [
        {
          "execution_count": 19,
          "output_type": "execute_result",
          "data": {
            "text/plain": "product\n0    11478\n1     6595\n2     5403\n3     1278\n4     1823\nName: flag, dtype: int64"
          },
          "metadata": {}
        },
        {
          "output_type": "display_data",
          "data": {
            "text/plain": "<Figure size 432x288 with 1 Axes>",
            "image/png": "[encoded data removed]"
          },
          "metadata": {
            "needs_background": "light"
          }
        }
      ]
    },
    {
      "cell_type": "markdown",
      "source": [
        "С учетом большого количества запросов на кредиты типа 1, там валовое количество дефолтов больше"
      ],
      "metadata": {
        "id": "O6IOMIp2BT2p"
      }
    },
    {
      "cell_type": "code",
      "source": [
        "test_target = pd.read_csv(PATH_TO_TEST_TARGET)\n",
        "test_target.head()"
      ],
      "metadata": {
        "execution": {
          "iopub.status.busy": "2022-07-07T13:27:57.572255Z",
          "iopub.execute_input": "2022-07-07T13:27:57.572657Z",
          "iopub.status.idle": "2022-07-07T13:27:57.745848Z",
          "shell.execute_reply.started": "2022-07-07T13:27:57.572626Z",
          "shell.execute_reply": "2022-07-07T13:27:57.745000Z"
        },
        "trusted": true,
        "id": "OV-ImdtnBT2p",
        "outputId": "1a0b0af2-b044-476c-f76c-9cf41969bae9"
      },
      "execution_count": null,
      "outputs": [
        {
          "execution_count": 20,
          "output_type": "execute_result",
          "data": {
            "text/plain": "    app_id  product\n0  1063620        0\n1  1063621        0\n2  1063622        1\n3  1063623        1\n4  1063624        2",
            "text/html": "<div>\n<style scoped>\n    .dataframe tbody tr th:only-of-type {\n        vertical-align: middle;\n    }\n\n    .dataframe tbody tr th {\n        vertical-align: top;\n    }\n\n    .dataframe thead th {\n        text-align: right;\n    }\n</style>\n<table border=\"1\" class=\"dataframe\">\n  <thead>\n    <tr style=\"text-align: right;\">\n      <th></th>\n      <th>app_id</th>\n      <th>product</th>\n    </tr>\n  </thead>\n  <tbody>\n    <tr>\n      <th>0</th>\n      <td>1063620</td>\n      <td>0</td>\n    </tr>\n    <tr>\n      <th>1</th>\n      <td>1063621</td>\n      <td>0</td>\n    </tr>\n    <tr>\n      <th>2</th>\n      <td>1063622</td>\n      <td>1</td>\n    </tr>\n    <tr>\n      <th>3</th>\n      <td>1063623</td>\n      <td>1</td>\n    </tr>\n    <tr>\n      <th>4</th>\n      <td>1063624</td>\n      <td>2</td>\n    </tr>\n  </tbody>\n</table>\n</div>"
          },
          "metadata": {}
        }
      ]
    },
    {
      "cell_type": "code",
      "source": [
        "test_target['product'].value_counts('mean').plot.bar();\n",
        "test_target['product'].value_counts('mean')"
      ],
      "metadata": {
        "execution": {
          "iopub.status.busy": "2022-07-07T13:28:47.198349Z",
          "iopub.execute_input": "2022-07-07T13:28:47.198748Z",
          "iopub.status.idle": "2022-07-07T13:28:47.383562Z",
          "shell.execute_reply.started": "2022-07-07T13:28:47.198706Z",
          "shell.execute_reply": "2022-07-07T13:28:47.382295Z"
        },
        "trusted": true,
        "id": "NWnfZFBRBT2p",
        "outputId": "b0258231-693f-4170-d3ef-3c025340a801"
      },
      "execution_count": null,
      "outputs": [
        {
          "execution_count": 21,
          "output_type": "execute_result",
          "data": {
            "text/plain": "0    0.505138\n1    0.287262\n4    0.077740\n3    0.070531\n2    0.059330\nName: product, dtype: float64"
          },
          "metadata": {}
        },
        {
          "output_type": "display_data",
          "data": {
            "text/plain": "<Figure size 432x288 with 1 Axes>",
            "image/png": "[encoded data removed]"
          },
          "metadata": {
            "needs_background": "light"
          }
        }
      ]
    },
    {
      "cell_type": "markdown",
      "source": [
        "В тестовой выборке похожее распределение заявок по типам кредитов"
      ],
      "metadata": {
        "id": "eYxlFAgnBT2q"
      }
    },
    {
      "cell_type": "markdown",
      "source": [
        "## Features"
      ],
      "metadata": {
        "id": "dBySgQ4qBT2q"
      }
    },
    {
      "cell_type": "markdown",
      "source": [
        "Базовая функция для предварительной обработкии пакета parquet файлов"
      ],
      "metadata": {
        "id": "NuxyvHYOBT2q"
      }
    },
    {
      "cell_type": "code",
      "source": [
        "def read_parquet_dataset_from_local(path_to_dataset: str, \n",
        "                                    start_from: int = 0, \n",
        "                                    num_parts_to_read: int = 1, \n",
        "                                    verbose=False) -> pd.DataFrame:\n",
        "    res = []\n",
        "    dataset_paths = sorted([os.path.join(path_to_dataset, filename) \n",
        "                                for filename in os.listdir(path_to_dataset) \n",
        "                                if filename.startswith('part')])\n",
        "    \n",
        "    start_from = max(0, start_from)\n",
        "    chunks = dataset_paths[start_from: start_from + num_parts_to_read]\n",
        "    for chunk_path in tqdm.tqdm_notebook(chunks, desc=\"Reading dataset\"):\n",
        "        chunk = pd.read_parquet(chunk_path)\n",
        "        res.append(chunk)\n",
        "        del chunk\n",
        "        gc.collect()\n",
        "    return pd.concat(res).reset_index(drop=True)"
      ],
      "metadata": {
        "execution": {
          "iopub.status.busy": "2022-07-07T15:26:52.629288Z",
          "iopub.execute_input": "2022-07-07T15:26:52.629702Z",
          "iopub.status.idle": "2022-07-07T15:26:52.639770Z",
          "shell.execute_reply.started": "2022-07-07T15:26:52.629669Z",
          "shell.execute_reply": "2022-07-07T15:26:52.638071Z"
        },
        "trusted": true,
        "id": "Xe5Lkfa0BT2q"
      },
      "execution_count": null,
      "outputs": []
    },
    {
      "cell_type": "code",
      "source": [
        "df = read_parquet_dataset_from_local(PATH_TO_TRAIN)\n",
        "df.head()"
      ],
      "metadata": {
        "execution": {
          "iopub.status.busy": "2022-07-07T14:01:40.274840Z",
          "iopub.execute_input": "2022-07-07T14:01:40.275303Z",
          "iopub.status.idle": "2022-07-07T14:01:44.236761Z",
          "shell.execute_reply.started": "2022-07-07T14:01:40.275267Z",
          "shell.execute_reply": "2022-07-07T14:01:44.235645Z"
        },
        "trusted": true,
        "id": "3JTVl9XwBT2q",
        "outputId": "2a8ed41f-f606-4930-eaf0-3ac198a7568d"
      },
      "execution_count": null,
      "outputs": [
        {
          "output_type": "display_data",
          "data": {
            "text/plain": "Reading dataset:   0%|          | 0/1 [00:00<?, ?it/s]",
            "application/vnd.jupyter.widget-view+json": {
              "version_major": 2,
              "version_minor": 0,
              "model_id": "575d3860997740fdb5a95716211cc7ab"
            }
          },
          "metadata": {}
        },
        {
          "execution_count": 66,
          "output_type": "execute_result",
          "data": {
            "text/plain": "   app_id      amnt  currency  operation_kind  card_type  operation_type  \\\n0       0  0.465425         1               4         98               4   \n1       0  0.000000         1               2         98               7   \n2       0  0.521152         1               2         98               3   \n3       0  0.356078         1               1          5               2   \n4       0  0.000000         1               2         98               7   \n\n   operation_type_group  ecommerce_flag  payment_system  income_flag  mcc  \\\n0                     2               3               7            3    2   \n1                     1               3               7            3    2   \n2                     1               3               7            3    2   \n3                     1               3               7            3   10   \n4                     1               3               7            3    2   \n\n   country  city  mcc_category  day_of_week  hour  days_before  weekofyear  \\\n0        1    37             2            4    19          351          34   \n1        1    49             2            4    20          351          34   \n2        1    37             2            4    20          351          34   \n3        1    49             7            2     0          348          34   \n4        1    49             2            4    16          337          53   \n\n   hour_diff  transaction_number  \n0         -1                   1  \n1          0                   2  \n2          0                   3  \n3         52                   4  \n4        280                   5  ",
            "text/html": "<div>\n<style scoped>\n    .dataframe tbody tr th:only-of-type {\n        vertical-align: middle;\n    }\n\n    .dataframe tbody tr th {\n        vertical-align: top;\n    }\n\n    .dataframe thead th {\n        text-align: right;\n    }\n</style>\n<table border=\"1\" class=\"dataframe\">\n  <thead>\n    <tr style=\"text-align: right;\">\n      <th></th>\n      <th>app_id</th>\n      <th>amnt</th>\n      <th>currency</th>\n      <th>operation_kind</th>\n      <th>card_type</th>\n      <th>operation_type</th>\n      <th>operation_type_group</th>\n      <th>ecommerce_flag</th>\n      <th>payment_system</th>\n      <th>income_flag</th>\n      <th>mcc</th>\n      <th>country</th>\n      <th>city</th>\n      <th>mcc_category</th>\n      <th>day_of_week</th>\n      <th>hour</th>\n      <th>days_before</th>\n      <th>weekofyear</th>\n      <th>hour_diff</th>\n      <th>transaction_number</th>\n    </tr>\n  </thead>\n  <tbody>\n    <tr>\n      <th>0</th>\n      <td>0</td>\n      <td>0.465425</td>\n      <td>1</td>\n      <td>4</td>\n      <td>98</td>\n      <td>4</td>\n      <td>2</td>\n      <td>3</td>\n      <td>7</td>\n      <td>3</td>\n      <td>2</td>\n      <td>1</td>\n      <td>37</td>\n      <td>2</td>\n      <td>4</td>\n      <td>19</td>\n      <td>351</td>\n      <td>34</td>\n      <td>-1</td>\n      <td>1</td>\n    </tr>\n    <tr>\n      <th>1</th>\n      <td>0</td>\n      <td>0.000000</td>\n      <td>1</td>\n      <td>2</td>\n      <td>98</td>\n      <td>7</td>\n      <td>1</td>\n      <td>3</td>\n      <td>7</td>\n      <td>3</td>\n      <td>2</td>\n      <td>1</td>\n      <td>49</td>\n      <td>2</td>\n      <td>4</td>\n      <td>20</td>\n      <td>351</td>\n      <td>34</td>\n      <td>0</td>\n      <td>2</td>\n    </tr>\n    <tr>\n      <th>2</th>\n      <td>0</td>\n      <td>0.521152</td>\n      <td>1</td>\n      <td>2</td>\n      <td>98</td>\n      <td>3</td>\n      <td>1</td>\n      <td>3</td>\n      <td>7</td>\n      <td>3</td>\n      <td>2</td>\n      <td>1</td>\n      <td>37</td>\n      <td>2</td>\n      <td>4</td>\n      <td>20</td>\n      <td>351</td>\n      <td>34</td>\n      <td>0</td>\n      <td>3</td>\n    </tr>\n    <tr>\n      <th>3</th>\n      <td>0</td>\n      <td>0.356078</td>\n      <td>1</td>\n      <td>1</td>\n      <td>5</td>\n      <td>2</td>\n      <td>1</td>\n      <td>3</td>\n      <td>7</td>\n      <td>3</td>\n      <td>10</td>\n      <td>1</td>\n      <td>49</td>\n      <td>7</td>\n      <td>2</td>\n      <td>0</td>\n      <td>348</td>\n      <td>34</td>\n      <td>52</td>\n      <td>4</td>\n    </tr>\n    <tr>\n      <th>4</th>\n      <td>0</td>\n      <td>0.000000</td>\n      <td>1</td>\n      <td>2</td>\n      <td>98</td>\n      <td>7</td>\n      <td>1</td>\n      <td>3</td>\n      <td>7</td>\n      <td>3</td>\n      <td>2</td>\n      <td>1</td>\n      <td>49</td>\n      <td>2</td>\n      <td>4</td>\n      <td>16</td>\n      <td>337</td>\n      <td>53</td>\n      <td>280</td>\n      <td>5</td>\n    </tr>\n  </tbody>\n</table>\n</div>"
          },
          "metadata": {}
        }
      ]
    },
    {
      "cell_type": "code",
      "source": [
        "df.describe()"
      ],
      "metadata": {
        "execution": {
          "iopub.status.busy": "2022-07-07T13:32:14.151140Z",
          "iopub.execute_input": "2022-07-07T13:32:14.151555Z",
          "iopub.status.idle": "2022-07-07T13:32:17.027185Z",
          "shell.execute_reply.started": "2022-07-07T13:32:14.151523Z",
          "shell.execute_reply": "2022-07-07T13:32:17.025661Z"
        },
        "trusted": true,
        "id": "v58ON1LDBT2r",
        "outputId": "a7336e1c-c197-41e3-e486-2e40db5c5146"
      },
      "execution_count": null,
      "outputs": [
        {
          "execution_count": 27,
          "output_type": "execute_result",
          "data": {
            "text/plain": "             app_id          amnt      currency  operation_kind     card_type  \\\ncount  5.408648e+06  5.408648e+06  5.408648e+06    5.408648e+06  5.408648e+06   \nmean   1.196700e+04  3.731903e-01  1.102897e+00    1.432612e+00  5.370986e+01   \nstd    6.861200e+03  9.935179e-02  8.109217e-01    9.207239e-01  4.874927e+01   \nmin    0.000000e+00  0.000000e+00  1.000000e+00    1.000000e+00  1.000000e+00   \n25%    6.064000e+03  3.030730e-01  1.000000e+00    1.000000e+00  1.400000e+01   \n50%    1.203000e+04  3.590501e-01  1.000000e+00    1.000000e+00  4.400000e+01   \n75%    1.795800e+04  4.318899e-01  1.000000e+00    1.000000e+00  7.500000e+01   \nmax    2.364600e+04  9.652161e-01  1.100000e+01    7.000000e+00  1.750000e+02   \n\n       operation_type  operation_type_group  ecommerce_flag  payment_system  \\\ncount    5.408648e+06          5.408648e+06    5.408648e+06    5.408648e+06   \nmean     2.666638e+00          1.080972e+00    1.101041e+00    2.107173e+00   \nstd      2.811152e+00          2.779329e-01    3.014216e-01    1.263018e+00   \nmin      1.000000e+00          1.000000e+00    1.000000e+00    1.000000e+00   \n25%      1.000000e+00          1.000000e+00    1.000000e+00    1.000000e+00   \n50%      2.000000e+00          1.000000e+00    1.000000e+00    2.000000e+00   \n75%      3.000000e+00          1.000000e+00    1.000000e+00    2.000000e+00   \nmax      2.200000e+01          3.000000e+00    3.000000e+00    7.000000e+00   \n\n        income_flag           mcc       country          city  mcc_category  \\\ncount  5.408648e+06  5.408648e+06  5.408648e+06  5.408648e+06  5.408648e+06   \nmean   1.082360e+00  1.296138e+01  1.563146e+00  2.034708e+01  4.408043e+00   \nstd    2.749573e-01  2.127896e+01  2.829418e+00  3.477612e+01  4.543977e+00   \nmin    1.000000e+00  1.000000e+00  1.000000e+00  1.000000e+00  1.000000e+00   \n25%    1.000000e+00  2.000000e+00  1.000000e+00  1.000000e+00  1.000000e+00   \n50%    1.000000e+00  3.000000e+00  1.000000e+00  4.000000e+00  2.000000e+00   \n75%    1.000000e+00  1.300000e+01  1.000000e+00  2.300000e+01  6.000000e+00   \nmax    3.000000e+00  1.080000e+02  2.400000e+01  1.630000e+02  2.800000e+01   \n\n        day_of_week          hour   days_before    weekofyear     hour_diff  \\\ncount  5.408648e+06  5.408648e+06  5.408648e+06  5.408648e+06  5.408648e+06   \nmean   3.860936e+00  1.416821e+01  1.681312e+02  2.594536e+01  3.192437e+01   \nstd    1.997089e+00  4.836613e+00  1.022449e+02  1.474290e+01  9.514843e+01   \nmin    1.000000e+00  0.000000e+00  1.000000e+00  1.000000e+00 -1.000000e+00   \n25%    2.000000e+00  1.100000e+01  7.900000e+01  1.300000e+01  1.000000e+00   \n50%    4.000000e+00  1.500000e+01  1.630000e+02  2.600000e+01  6.000000e+00   \n75%    6.000000e+00  1.800000e+01  2.540000e+02  3.800000e+01  2.400000e+01   \nmax    7.000000e+00  2.300000e+01  3.590000e+02  5.300000e+01  8.011000e+03   \n\n       transaction_number  \ncount        5.408648e+06  \nmean         2.706400e+02  \nstd          3.021303e+02  \nmin          1.000000e+00  \n25%          7.100000e+01  \n50%          1.770000e+02  \n75%          3.640000e+02  \nmax          4.183000e+03  ",
            "text/html": "<div>\n<style scoped>\n    .dataframe tbody tr th:only-of-type {\n        vertical-align: middle;\n    }\n\n    .dataframe tbody tr th {\n        vertical-align: top;\n    }\n\n    .dataframe thead th {\n        text-align: right;\n    }\n</style>\n<table border=\"1\" class=\"dataframe\">\n  <thead>\n    <tr style=\"text-align: right;\">\n      <th></th>\n      <th>app_id</th>\n      <th>amnt</th>\n      <th>currency</th>\n      <th>operation_kind</th>\n      <th>card_type</th>\n      <th>operation_type</th>\n      <th>operation_type_group</th>\n      <th>ecommerce_flag</th>\n      <th>payment_system</th>\n      <th>income_flag</th>\n      <th>mcc</th>\n      <th>country</th>\n      <th>city</th>\n      <th>mcc_category</th>\n      <th>day_of_week</th>\n      <th>hour</th>\n      <th>days_before</th>\n      <th>weekofyear</th>\n      <th>hour_diff</th>\n      <th>transaction_number</th>\n    </tr>\n  </thead>\n  <tbody>\n    <tr>\n      <th>count</th>\n      <td>5.408648e+06</td>\n      <td>5.408648e+06</td>\n      <td>5.408648e+06</td>\n      <td>5.408648e+06</td>\n      <td>5.408648e+06</td>\n      <td>5.408648e+06</td>\n      <td>5.408648e+06</td>\n      <td>5.408648e+06</td>\n      <td>5.408648e+06</td>\n      <td>5.408648e+06</td>\n      <td>5.408648e+06</td>\n      <td>5.408648e+06</td>\n      <td>5.408648e+06</td>\n      <td>5.408648e+06</td>\n      <td>5.408648e+06</td>\n      <td>5.408648e+06</td>\n      <td>5.408648e+06</td>\n      <td>5.408648e+06</td>\n      <td>5.408648e+06</td>\n      <td>5.408648e+06</td>\n    </tr>\n    <tr>\n      <th>mean</th>\n      <td>1.196700e+04</td>\n      <td>3.731903e-01</td>\n      <td>1.102897e+00</td>\n      <td>1.432612e+00</td>\n      <td>5.370986e+01</td>\n      <td>2.666638e+00</td>\n      <td>1.080972e+00</td>\n      <td>1.101041e+00</td>\n      <td>2.107173e+00</td>\n      <td>1.082360e+00</td>\n      <td>1.296138e+01</td>\n      <td>1.563146e+00</td>\n      <td>2.034708e+01</td>\n      <td>4.408043e+00</td>\n      <td>3.860936e+00</td>\n      <td>1.416821e+01</td>\n      <td>1.681312e+02</td>\n      <td>2.594536e+01</td>\n      <td>3.192437e+01</td>\n      <td>2.706400e+02</td>\n    </tr>\n    <tr>\n      <th>std</th>\n      <td>6.861200e+03</td>\n      <td>9.935179e-02</td>\n      <td>8.109217e-01</td>\n      <td>9.207239e-01</td>\n      <td>4.874927e+01</td>\n      <td>2.811152e+00</td>\n      <td>2.779329e-01</td>\n      <td>3.014216e-01</td>\n      <td>1.263018e+00</td>\n      <td>2.749573e-01</td>\n      <td>2.127896e+01</td>\n      <td>2.829418e+00</td>\n      <td>3.477612e+01</td>\n      <td>4.543977e+00</td>\n      <td>1.997089e+00</td>\n      <td>4.836613e+00</td>\n      <td>1.022449e+02</td>\n      <td>1.474290e+01</td>\n      <td>9.514843e+01</td>\n      <td>3.021303e+02</td>\n    </tr>\n    <tr>\n      <th>min</th>\n      <td>0.000000e+00</td>\n      <td>0.000000e+00</td>\n      <td>1.000000e+00</td>\n      <td>1.000000e+00</td>\n      <td>1.000000e+00</td>\n      <td>1.000000e+00</td>\n      <td>1.000000e+00</td>\n      <td>1.000000e+00</td>\n      <td>1.000000e+00</td>\n      <td>1.000000e+00</td>\n      <td>1.000000e+00</td>\n      <td>1.000000e+00</td>\n      <td>1.000000e+00</td>\n      <td>1.000000e+00</td>\n      <td>1.000000e+00</td>\n      <td>0.000000e+00</td>\n      <td>1.000000e+00</td>\n      <td>1.000000e+00</td>\n      <td>-1.000000e+00</td>\n      <td>1.000000e+00</td>\n    </tr>\n    <tr>\n      <th>25%</th>\n      <td>6.064000e+03</td>\n      <td>3.030730e-01</td>\n      <td>1.000000e+00</td>\n      <td>1.000000e+00</td>\n      <td>1.400000e+01</td>\n      <td>1.000000e+00</td>\n      <td>1.000000e+00</td>\n      <td>1.000000e+00</td>\n      <td>1.000000e+00</td>\n      <td>1.000000e+00</td>\n      <td>2.000000e+00</td>\n      <td>1.000000e+00</td>\n      <td>1.000000e+00</td>\n      <td>1.000000e+00</td>\n      <td>2.000000e+00</td>\n      <td>1.100000e+01</td>\n      <td>7.900000e+01</td>\n      <td>1.300000e+01</td>\n      <td>1.000000e+00</td>\n      <td>7.100000e+01</td>\n    </tr>\n    <tr>\n      <th>50%</th>\n      <td>1.203000e+04</td>\n      <td>3.590501e-01</td>\n      <td>1.000000e+00</td>\n      <td>1.000000e+00</td>\n      <td>4.400000e+01</td>\n      <td>2.000000e+00</td>\n      <td>1.000000e+00</td>\n      <td>1.000000e+00</td>\n      <td>2.000000e+00</td>\n      <td>1.000000e+00</td>\n      <td>3.000000e+00</td>\n      <td>1.000000e+00</td>\n      <td>4.000000e+00</td>\n      <td>2.000000e+00</td>\n      <td>4.000000e+00</td>\n      <td>1.500000e+01</td>\n      <td>1.630000e+02</td>\n      <td>2.600000e+01</td>\n      <td>6.000000e+00</td>\n      <td>1.770000e+02</td>\n    </tr>\n    <tr>\n      <th>75%</th>\n      <td>1.795800e+04</td>\n      <td>4.318899e-01</td>\n      <td>1.000000e+00</td>\n      <td>1.000000e+00</td>\n      <td>7.500000e+01</td>\n      <td>3.000000e+00</td>\n      <td>1.000000e+00</td>\n      <td>1.000000e+00</td>\n      <td>2.000000e+00</td>\n      <td>1.000000e+00</td>\n      <td>1.300000e+01</td>\n      <td>1.000000e+00</td>\n      <td>2.300000e+01</td>\n      <td>6.000000e+00</td>\n      <td>6.000000e+00</td>\n      <td>1.800000e+01</td>\n      <td>2.540000e+02</td>\n      <td>3.800000e+01</td>\n      <td>2.400000e+01</td>\n      <td>3.640000e+02</td>\n    </tr>\n    <tr>\n      <th>max</th>\n      <td>2.364600e+04</td>\n      <td>9.652161e-01</td>\n      <td>1.100000e+01</td>\n      <td>7.000000e+00</td>\n      <td>1.750000e+02</td>\n      <td>2.200000e+01</td>\n      <td>3.000000e+00</td>\n      <td>3.000000e+00</td>\n      <td>7.000000e+00</td>\n      <td>3.000000e+00</td>\n      <td>1.080000e+02</td>\n      <td>2.400000e+01</td>\n      <td>1.630000e+02</td>\n      <td>2.800000e+01</td>\n      <td>7.000000e+00</td>\n      <td>2.300000e+01</td>\n      <td>3.590000e+02</td>\n      <td>5.300000e+01</td>\n      <td>8.011000e+03</td>\n      <td>4.183000e+03</td>\n    </tr>\n  </tbody>\n</table>\n</div>"
          },
          "metadata": {}
        }
      ]
    },
    {
      "cell_type": "markdown",
      "source": [
        "amnt явно пересчитана"
      ],
      "metadata": {
        "id": "O18-35W2BT2r"
      }
    },
    {
      "cell_type": "code",
      "source": [
        "df.nunique()"
      ],
      "metadata": {
        "execution": {
          "iopub.status.busy": "2022-07-07T13:31:33.995204Z",
          "iopub.execute_input": "2022-07-07T13:31:33.995615Z",
          "iopub.status.idle": "2022-07-07T13:31:34.651257Z",
          "shell.execute_reply.started": "2022-07-07T13:31:33.995580Z",
          "shell.execute_reply": "2022-07-07T13:31:34.649977Z"
        },
        "trusted": true,
        "id": "CguXI7vYBT2r",
        "outputId": "3fb1a28d-41bd-45c8-c50a-a8f54ec85a71"
      },
      "execution_count": null,
      "outputs": [
        {
          "execution_count": 25,
          "output_type": "execute_result",
          "data": {
            "text/plain": "app_id                   22743\namnt                    422052\ncurrency                    11\noperation_kind               7\ncard_type                  121\noperation_type              20\noperation_type_group         3\necommerce_flag               3\npayment_system               6\nincome_flag                  3\nmcc                        108\ncountry                     24\ncity                       161\nmcc_category                28\nday_of_week                  7\nhour                        24\ndays_before                359\nweekofyear                  53\nhour_diff                 2435\ntransaction_number        4183\ndtype: int64"
          },
          "metadata": {}
        }
      ]
    },
    {
      "cell_type": "code",
      "source": [
        "CAT_COLUMNS = ['currency', 'operation_kind', 'card_type',\n",
        "               'operation_type', 'operation_type_group', 'ecommerce_flag',\n",
        "               'payment_system', 'income_flag', 'mcc', 'country', 'city',\n",
        "               'mcc_category', 'day_of_week', 'hour','weekofyear']"
      ],
      "metadata": {
        "execution": {
          "iopub.status.busy": "2022-07-07T13:37:57.329538Z",
          "iopub.execute_input": "2022-07-07T13:37:57.330035Z",
          "iopub.status.idle": "2022-07-07T13:37:57.336931Z",
          "shell.execute_reply.started": "2022-07-07T13:37:57.329993Z",
          "shell.execute_reply": "2022-07-07T13:37:57.335670Z"
        },
        "trusted": true,
        "id": "C5w-E9XnBT2r"
      },
      "execution_count": null,
      "outputs": []
    },
    {
      "cell_type": "code",
      "source": [
        "df.groupby(['app_id'])['amnt'].sum().plot.hist(bins=100);"
      ],
      "metadata": {
        "execution": {
          "iopub.status.busy": "2022-07-07T13:36:19.837153Z",
          "iopub.execute_input": "2022-07-07T13:36:19.838195Z",
          "iopub.status.idle": "2022-07-07T13:36:20.365340Z",
          "shell.execute_reply.started": "2022-07-07T13:36:19.838133Z",
          "shell.execute_reply": "2022-07-07T13:36:20.364342Z"
        },
        "trusted": true,
        "id": "ZiSiW3l_BT2r",
        "outputId": "8eb31f87-3f3c-4bc0-bcbb-9e612cf57c29"
      },
      "execution_count": null,
      "outputs": [
        {
          "output_type": "display_data",
          "data": {
            "text/plain": "<Figure size 432x288 with 1 Axes>",
            "image/png": "[encoded data removed]"
          },
          "metadata": {
            "needs_background": "light"
          }
        }
      ]
    },
    {
      "cell_type": "code",
      "source": [
        "df.groupby(['app_id'])['amnt'].mean().plot.hist(bins=100);"
      ],
      "metadata": {
        "execution": {
          "iopub.status.busy": "2022-07-07T13:36:02.255266Z",
          "iopub.execute_input": "2022-07-07T13:36:02.256547Z",
          "iopub.status.idle": "2022-07-07T13:36:02.761748Z",
          "shell.execute_reply.started": "2022-07-07T13:36:02.256487Z",
          "shell.execute_reply": "2022-07-07T13:36:02.760475Z"
        },
        "trusted": true,
        "id": "N8r9iMoSBT2r",
        "outputId": "d7cec9bf-b219-4f61-df5b-211838267ae7"
      },
      "execution_count": null,
      "outputs": [
        {
          "output_type": "display_data",
          "data": {
            "text/plain": "<Figure size 432x288 with 1 Axes>",
            "image/png": "[encoded data removed]"
          },
          "metadata": {
            "needs_background": "light"
          }
        }
      ]
    },
    {
      "cell_type": "code",
      "source": [
        "fig, axes = plt.subplots(nrows=3, ncols=5, figsize=(15,5))\n",
        "for i, col in enumerate(CAT_COLUMNS):\n",
        "    axes[i % 3][i % 5].pie(df[col].value_counts(), labels=df[col].unique())\n",
        "    axes[i % 3][i % 5].set_title(col)\n",
        "plt.show()"
      ],
      "metadata": {
        "execution": {
          "iopub.status.busy": "2022-07-07T13:59:12.928798Z",
          "iopub.execute_input": "2022-07-07T13:59:12.929216Z",
          "iopub.status.idle": "2022-07-07T13:59:18.902907Z",
          "shell.execute_reply.started": "2022-07-07T13:59:12.929183Z",
          "shell.execute_reply": "2022-07-07T13:59:18.900439Z"
        },
        "trusted": true,
        "id": "w_4opAuNBT2r",
        "outputId": "d3d89fe2-5021-4ca6-885f-a647835fa233"
      },
      "execution_count": null,
      "outputs": [
        {
          "output_type": "display_data",
          "data": {
            "text/plain": "<Figure size 1080x360 with 15 Axes>",
            "image/png": "[encoded data removed]"
          },
          "metadata": {}
        }
      ]
    },
    {
      "cell_type": "code",
      "source": [
        "df_min_max_day = df.groupby(['app_id'])['days_before'].agg(['min', 'max'])"
      ],
      "metadata": {
        "execution": {
          "iopub.status.busy": "2022-07-07T14:03:27.168903Z",
          "iopub.execute_input": "2022-07-07T14:03:27.169929Z",
          "iopub.status.idle": "2022-07-07T14:03:27.331492Z",
          "shell.execute_reply.started": "2022-07-07T14:03:27.169857Z",
          "shell.execute_reply": "2022-07-07T14:03:27.330078Z"
        },
        "trusted": true,
        "id": "eDj4fiI8BT2s"
      },
      "execution_count": null,
      "outputs": []
    },
    {
      "cell_type": "code",
      "source": [
        "df_min_max_day[df_min_max_day['max'] == df_min_max_day['min']]"
      ],
      "metadata": {
        "execution": {
          "iopub.status.busy": "2022-07-07T14:04:48.148982Z",
          "iopub.execute_input": "2022-07-07T14:04:48.149383Z",
          "iopub.status.idle": "2022-07-07T14:04:48.160839Z",
          "shell.execute_reply.started": "2022-07-07T14:04:48.149349Z",
          "shell.execute_reply": "2022-07-07T14:04:48.159950Z"
        },
        "trusted": true,
        "id": "xnLK6alqBT2s",
        "outputId": "a1462a6b-ae77-46d9-af6e-1da4e30dfee3"
      },
      "execution_count": null,
      "outputs": [
        {
          "execution_count": 73,
          "output_type": "execute_result",
          "data": {
            "text/plain": "        min  max\napp_id          \n21355   347  347",
            "text/html": "<div>\n<style scoped>\n    .dataframe tbody tr th:only-of-type {\n        vertical-align: middle;\n    }\n\n    .dataframe tbody tr th {\n        vertical-align: top;\n    }\n\n    .dataframe thead th {\n        text-align: right;\n    }\n</style>\n<table border=\"1\" class=\"dataframe\">\n  <thead>\n    <tr style=\"text-align: right;\">\n      <th></th>\n      <th>min</th>\n      <th>max</th>\n    </tr>\n    <tr>\n      <th>app_id</th>\n      <th></th>\n      <th></th>\n    </tr>\n  </thead>\n  <tbody>\n    <tr>\n      <th>21355</th>\n      <td>347</td>\n      <td>347</td>\n    </tr>\n  </tbody>\n</table>\n</div>"
          },
          "metadata": {}
        }
      ]
    },
    {
      "cell_type": "code",
      "source": [
        "df[df['app_id'] == 21355]"
      ],
      "metadata": {
        "execution": {
          "iopub.status.busy": "2022-07-07T14:06:33.409234Z",
          "iopub.execute_input": "2022-07-07T14:06:33.409727Z",
          "iopub.status.idle": "2022-07-07T14:06:33.440096Z",
          "shell.execute_reply.started": "2022-07-07T14:06:33.409687Z",
          "shell.execute_reply": "2022-07-07T14:06:33.439154Z"
        },
        "trusted": true,
        "id": "2O1WC_ZOBT2s",
        "outputId": "aa3806c6-4b3e-4fab-b23d-05ad55fb1156"
      },
      "execution_count": null,
      "outputs": [
        {
          "execution_count": 74,
          "output_type": "execute_result",
          "data": {
            "text/plain": "         app_id      amnt  currency  operation_kind  card_type  \\\n4847017   21355  0.593199         1               4         67   \n4847018   21355  0.561074         1               4         67   \n4847019   21355  0.510295         1               4         67   \n4847020   21355  0.431890         1               4         67   \n4847021   21355  0.465425         1               4         67   \n4847022   21355  0.387677         1               4         67   \n\n         operation_type  operation_type_group  ecommerce_flag  payment_system  \\\n4847017               4                     2               1               3   \n4847018               4                     2               1               3   \n4847019               4                     2               1               3   \n4847020               4                     2               1               3   \n4847021               4                     2               1               3   \n4847022               4                     2               1               3   \n\n         income_flag  mcc  country  city  mcc_category  day_of_week  hour  \\\n4847017            2    2        1    12             2            2    13   \n4847018            2    2        1    12             2            2    13   \n4847019            2    2        1    12             2            2    13   \n4847020            2    2        1    12             2            2    13   \n4847021            2    2        1    12             2            2    13   \n4847022            2    2        1    12             2            2    13   \n\n         days_before  weekofyear  hour_diff  transaction_number  \n4847017          347          20         -1                   1  \n4847018          347          20          0                   2  \n4847019          347          20          0                   3  \n4847020          347          20          0                   4  \n4847021          347          20          0                   5  \n4847022          347          20          0                   6  ",
            "text/html": "<div>\n<style scoped>\n    .dataframe tbody tr th:only-of-type {\n        vertical-align: middle;\n    }\n\n    .dataframe tbody tr th {\n        vertical-align: top;\n    }\n\n    .dataframe thead th {\n        text-align: right;\n    }\n</style>\n<table border=\"1\" class=\"dataframe\">\n  <thead>\n    <tr style=\"text-align: right;\">\n      <th></th>\n      <th>app_id</th>\n      <th>amnt</th>\n      <th>currency</th>\n      <th>operation_kind</th>\n      <th>card_type</th>\n      <th>operation_type</th>\n      <th>operation_type_group</th>\n      <th>ecommerce_flag</th>\n      <th>payment_system</th>\n      <th>income_flag</th>\n      <th>mcc</th>\n      <th>country</th>\n      <th>city</th>\n      <th>mcc_category</th>\n      <th>day_of_week</th>\n      <th>hour</th>\n      <th>days_before</th>\n      <th>weekofyear</th>\n      <th>hour_diff</th>\n      <th>transaction_number</th>\n    </tr>\n  </thead>\n  <tbody>\n    <tr>\n      <th>4847017</th>\n      <td>21355</td>\n      <td>0.593199</td>\n      <td>1</td>\n      <td>4</td>\n      <td>67</td>\n      <td>4</td>\n      <td>2</td>\n      <td>1</td>\n      <td>3</td>\n      <td>2</td>\n      <td>2</td>\n      <td>1</td>\n      <td>12</td>\n      <td>2</td>\n      <td>2</td>\n      <td>13</td>\n      <td>347</td>\n      <td>20</td>\n      <td>-1</td>\n      <td>1</td>\n    </tr>\n    <tr>\n      <th>4847018</th>\n      <td>21355</td>\n      <td>0.561074</td>\n      <td>1</td>\n      <td>4</td>\n      <td>67</td>\n      <td>4</td>\n      <td>2</td>\n      <td>1</td>\n      <td>3</td>\n      <td>2</td>\n      <td>2</td>\n      <td>1</td>\n      <td>12</td>\n      <td>2</td>\n      <td>2</td>\n      <td>13</td>\n      <td>347</td>\n      <td>20</td>\n      <td>0</td>\n      <td>2</td>\n    </tr>\n    <tr>\n      <th>4847019</th>\n      <td>21355</td>\n      <td>0.510295</td>\n      <td>1</td>\n      <td>4</td>\n      <td>67</td>\n      <td>4</td>\n      <td>2</td>\n      <td>1</td>\n      <td>3</td>\n      <td>2</td>\n      <td>2</td>\n      <td>1</td>\n      <td>12</td>\n      <td>2</td>\n      <td>2</td>\n      <td>13</td>\n      <td>347</td>\n      <td>20</td>\n      <td>0</td>\n      <td>3</td>\n    </tr>\n    <tr>\n      <th>4847020</th>\n      <td>21355</td>\n      <td>0.431890</td>\n      <td>1</td>\n      <td>4</td>\n      <td>67</td>\n      <td>4</td>\n      <td>2</td>\n      <td>1</td>\n      <td>3</td>\n      <td>2</td>\n      <td>2</td>\n      <td>1</td>\n      <td>12</td>\n      <td>2</td>\n      <td>2</td>\n      <td>13</td>\n      <td>347</td>\n      <td>20</td>\n      <td>0</td>\n      <td>4</td>\n    </tr>\n    <tr>\n      <th>4847021</th>\n      <td>21355</td>\n      <td>0.465425</td>\n      <td>1</td>\n      <td>4</td>\n      <td>67</td>\n      <td>4</td>\n      <td>2</td>\n      <td>1</td>\n      <td>3</td>\n      <td>2</td>\n      <td>2</td>\n      <td>1</td>\n      <td>12</td>\n      <td>2</td>\n      <td>2</td>\n      <td>13</td>\n      <td>347</td>\n      <td>20</td>\n      <td>0</td>\n      <td>5</td>\n    </tr>\n    <tr>\n      <th>4847022</th>\n      <td>21355</td>\n      <td>0.387677</td>\n      <td>1</td>\n      <td>4</td>\n      <td>67</td>\n      <td>4</td>\n      <td>2</td>\n      <td>1</td>\n      <td>3</td>\n      <td>2</td>\n      <td>2</td>\n      <td>1</td>\n      <td>12</td>\n      <td>2</td>\n      <td>2</td>\n      <td>13</td>\n      <td>347</td>\n      <td>20</td>\n      <td>0</td>\n      <td>6</td>\n    </tr>\n  </tbody>\n</table>\n</div>"
          },
          "metadata": {}
        }
      ]
    },
    {
      "cell_type": "code",
      "source": [
        "del df\n",
        "gc.collect()"
      ],
      "metadata": {
        "execution": {
          "iopub.status.busy": "2022-07-07T14:08:42.771595Z",
          "iopub.execute_input": "2022-07-07T14:08:42.772053Z",
          "iopub.status.idle": "2022-07-07T14:08:44.496359Z",
          "shell.execute_reply.started": "2022-07-07T14:08:42.772014Z",
          "shell.execute_reply": "2022-07-07T14:08:44.495121Z"
        },
        "trusted": true,
        "id": "wGmYpxJrBT2s",
        "outputId": "afcf1c28-bde1-4a6e-a89a-d53ad5f581f1"
      },
      "execution_count": null,
      "outputs": [
        {
          "execution_count": 77,
          "output_type": "execute_result",
          "data": {
            "text/plain": "33022"
          },
          "metadata": {}
        }
      ]
    },
    {
      "cell_type": "markdown",
      "source": [
        "# BOOSTING"
      ],
      "metadata": {
        "id": "NTFyt1VGBT2s"
      }
    },
    {
      "cell_type": "markdown",
      "source": [
        "## Feature engineering"
      ],
      "metadata": {
        "id": "g34OrWtvBT2s"
      }
    },
    {
      "cell_type": "code",
      "source": [
        "def __amnt_pivot_table_by_column_as_frame(frame, column: str, agg_funcs: list = ['mean', 'sum']) -> pd.DataFrame:\n",
        "    aggs = pd.pivot_table(frame, values='amnt',\n",
        "                          index=['app_id'], columns=[column],\n",
        "                          aggfunc={'amnt': agg_funcs},\n",
        "                          fill_value=0.0)\n",
        "    aggs.columns = [f'{col[0]}_{column}_{col[1]}' for col in aggs.columns.values]\n",
        "    return aggs"
      ],
      "metadata": {
        "execution": {
          "iopub.status.busy": "2022-07-07T15:26:56.742775Z",
          "iopub.execute_input": "2022-07-07T15:26:56.743242Z",
          "iopub.status.idle": "2022-07-07T15:26:56.751667Z",
          "shell.execute_reply.started": "2022-07-07T15:26:56.743204Z",
          "shell.execute_reply": "2022-07-07T15:26:56.750474Z"
        },
        "trusted": true,
        "id": "O1DcE2FkBT2s"
      },
      "execution_count": null,
      "outputs": []
    },
    {
      "cell_type": "code",
      "source": [
        "def extract_basic_aggregations(t_frame: pd.DataFrame, \n",
        "                               cat_columns=None, \n",
        "                               agg_funcs=['mean', 'sum']) -> pd.DataFrame:\n",
        "    t_frame.drop_duplicates(keep='last', inplace=True)\n",
        "#     t_frame = t_frame[t_frame['currency'].apply(lambda x: x in (1, 2, 3, 11))]\n",
        "    \n",
        "    # приведение суммы транзакции к рублям\n",
        "    t_frame['amnt'] = pd.Series(np.exp(t_frame['amnt']*17.8209)-1).astype('int')\n",
        "    \n",
        "    last_month_spendings = t_frame.loc[(t_frame['days_before']<31) \n",
        "                                       & (t_frame['income_flag'] == 1)][['app_id','amnt']]\n",
        "    last_month_spendings = last_month_spendings.groupby(['app_id'])['amnt'].sum() # записали сумму трат клиента за последний месяц\n",
        "    \n",
        "    last_month_income = t_frame.loc[(t_frame['days_before']<31) & (t_frame['income_flag'] == 2)][['app_id','amnt']]\n",
        "    last_month_income = last_month_income.groupby(['app_id'])['amnt'].sum() # записали сумму доходов клиента за последний месяц\n",
        "    \n",
        "    \n",
        "    spendings = t_frame[t_frame['income_flag'] == 1].groupby(['app_id'])['amnt'].sum()\n",
        "    incomes = t_frame[t_frame['income_flag'] == 2].groupby(['app_id'])['amnt'].sum()\n",
        "    \n",
        "    if not cat_columns:\n",
        "        cat_columns = CAT_COLUMNS\n",
        "\n",
        "    pivot_tables = []\n",
        "    for col in cat_columns:\n",
        "        pivot_tables.append(__amnt_pivot_table_by_column_as_frame(t_frame, column=col,\n",
        "                                                                  agg_funcs=agg_funcs))\n",
        "    pivot_tables = pd.concat(pivot_tables, axis=1)\n",
        "\n",
        "    aggs = {\n",
        "        # посчитаем статистики для транзакций\n",
        "        'amnt': ['mean', 'median', 'sum', 'std', 'min', 'max'],\n",
        "        # посчитаем разумные агрегаты для разниц, в часах между транзакциями\n",
        "        'hour_diff': ['max', 'mean', 'median', 'std'],\n",
        "        # добавим самую раннюю/позднюю и среднюю дату транзакции до подачи заявки на кредит\n",
        "        'days_before': ['min', 'max', 'median', 'std'],}\n",
        "\n",
        "    t_frame = t_frame.groupby(['app_id']).agg(aggs)\n",
        "    t_frame.columns = [k + '_' + agg for k in aggs.keys() for agg in aggs[k]]\n",
        "    t_frame['income'] = incomes\n",
        "    t_frame['spendings'] = spendings\n",
        "\n",
        "    # дадим разумные имена новым колонкам; может не работать в python 3.5, так как порядок ключей в словаре не\n",
        "    # гарантирован\n",
        "    \n",
        "    t_frame = pd.concat([pivot_tables, t_frame], axis=1).reset_index()\n",
        "    t_frame['31_spendings'] = last_month_spendings\n",
        "    t_frame['31_income'] = last_month_income\n",
        "    \n",
        "    t_frame['spendings_norm'] = (last_month_spendings / 31) / ((t_frame['spendings'] + 0.0001) / t_frame['days_before_max'])\n",
        "    t_frame['income_norm'] = (last_month_income / 31) / ((t_frame['income'] + 0.0001)/ t_frame['days_before_max'])\n",
        "\n",
        "    return t_frame.reset_index(drop=True).fillna(0)"
      ],
      "metadata": {
        "execution": {
          "iopub.status.busy": "2022-07-07T15:26:57.018324Z",
          "iopub.execute_input": "2022-07-07T15:26:57.019017Z",
          "iopub.status.idle": "2022-07-07T15:26:57.036802Z",
          "shell.execute_reply.started": "2022-07-07T15:26:57.018967Z",
          "shell.execute_reply": "2022-07-07T15:26:57.035720Z"
        },
        "trusted": true,
        "id": "hFShtqVaBT2s"
      },
      "execution_count": null,
      "outputs": []
    },
    {
      "cell_type": "code",
      "source": [
        "def prepare_transactions_dataset(path_to_dataset: str, \n",
        "                                 num_parts_to_preprocess_at_once: int = 1, \n",
        "                                 num_parts_total: int=50,                   \n",
        "                                 verbose: bool=False,\n",
        "                                 agg_funcs=['mean', 'count'],\n",
        "                                 cat_cols = ['mcc_category', 'operation_type', 'day_of_week']):\n",
        "    \n",
        "    preprocessed_frames = []\n",
        "    block = 0\n",
        "    for step in tqdm.tqdm_notebook(range(0, num_parts_total, num_parts_to_preprocess_at_once)):\n",
        "        transactions_frame = read_parquet_dataset_from_local(path_to_dataset, \n",
        "                                                             step, \n",
        "                                                             num_parts_to_preprocess_at_once, \n",
        "                                                             verbose=verbose)\n",
        "        transactions_frame = reduce_mem_usage_df(transactions_frame)\n",
        "        features = extract_basic_aggregations(transactions_frame, cat_columns=cat_cols, agg_funcs=agg_funcs)\n",
        "            \n",
        "        preprocessed_frames.append(features)\n",
        "    return pd.concat(preprocessed_frames)"
      ],
      "metadata": {
        "execution": {
          "iopub.status.busy": "2022-07-07T15:26:57.657648Z",
          "iopub.execute_input": "2022-07-07T15:26:57.659007Z",
          "iopub.status.idle": "2022-07-07T15:26:57.669593Z",
          "shell.execute_reply.started": "2022-07-07T15:26:57.658941Z",
          "shell.execute_reply": "2022-07-07T15:26:57.667971Z"
        },
        "trusted": true,
        "id": "f7LTxxHxBT2t"
      },
      "execution_count": null,
      "outputs": []
    },
    {
      "cell_type": "code",
      "source": [
        "def reduce_mem_usage_df(d_df: pd.DataFrame)-> [pd.DataFrame, list]:\n",
        "    \"\"\"\n",
        "    :перебирает все столбцы датафрейма и изменяет тип данных для уменьшения использования памяти.\n",
        "    \"\"\"\n",
        "    start_mem = d_df.memory_usage().sum() / 1024**2\n",
        "    print('Размер памяти исходного датафрейма {:.2f} MB'.format(start_mem))\n",
        "    \n",
        "    for col in d_df.columns:\n",
        "        col_type = d_df[col].dtype\n",
        "\n",
        "        if col_type != object:\n",
        "            c_min = d_df[col].min()\n",
        "            c_max = d_df[col].max()\n",
        "            if str(col_type)[:3] == 'int':\n",
        "                if c_min > np.iinfo(np.int8).min and c_max < np.iinfo(np.int8).max:\n",
        "                    d_df[col] = d_df[col].astype(np.int8)\n",
        "                elif c_min > np.iinfo(np.int16).min and c_max < np.iinfo(np.int16).max:\n",
        "                    d_df[col] = d_df[col].astype(np.int16)\n",
        "    \n",
        "    end_mem = d_df.memory_usage().sum() / 1024**2\n",
        "    print('Размер памяти после оптимизации: {:.2f} MB'.format(end_mem))\n",
        "    print('Уменьшено на {:.1f}%'.format(100 * (start_mem - end_mem) / start_mem))\n",
        "    \n",
        "    return d_df"
      ],
      "metadata": {
        "execution": {
          "iopub.status.busy": "2022-07-07T15:26:58.206726Z",
          "iopub.execute_input": "2022-07-07T15:26:58.207195Z",
          "iopub.status.idle": "2022-07-07T15:26:58.220408Z",
          "shell.execute_reply.started": "2022-07-07T15:26:58.207156Z",
          "shell.execute_reply": "2022-07-07T15:26:58.218645Z"
        },
        "trusted": true,
        "id": "U4EXz8m5BT2t"
      },
      "execution_count": null,
      "outputs": []
    },
    {
      "cell_type": "code",
      "source": [
        "train_data = prepare_transactions_dataset(PATH_TO_TRAIN, \n",
        "                                    num_parts_to_preprocess_at_once=5, \n",
        "                                    num_parts_total=50,\n",
        "                                    agg_funcs=['mean', 'sum'],\n",
        "                                    cat_cols = ['mcc', 'mcc_category', 'day_of_week'])"
      ],
      "metadata": {
        "execution": {
          "iopub.status.busy": "2022-07-07T14:32:53.481474Z",
          "iopub.execute_input": "2022-07-07T14:32:53.481922Z",
          "iopub.status.idle": "2022-07-07T14:48:36.216762Z",
          "shell.execute_reply.started": "2022-07-07T14:32:53.481860Z",
          "shell.execute_reply": "2022-07-07T14:48:36.215114Z"
        },
        "trusted": true,
        "id": "OWh5RxMfBT2t",
        "outputId": "ba6f9133-71bc-4254-beb7-b2a5b3791504"
      },
      "execution_count": null,
      "outputs": [
        {
          "output_type": "display_data",
          "data": {
            "text/plain": "  0%|          | 0/10 [00:00<?, ?it/s]",
            "application/vnd.jupyter.widget-view+json": {
              "version_major": 2,
              "version_minor": 0,
              "model_id": "40ddbe5538e1420f9513b906fcf22442"
            }
          },
          "metadata": {}
        },
        {
          "output_type": "display_data",
          "data": {
            "text/plain": "Reading dataset:   0%|          | 0/5 [00:00<?, ?it/s]",
            "application/vnd.jupyter.widget-view+json": {
              "version_major": 2,
              "version_minor": 0,
              "model_id": "02a46cbae364459a80ee1f3c421c4d1d"
            }
          },
          "metadata": {}
        },
        {
          "name": "stdout",
          "text": "Размер памяти исходного датафрейма 2269.72 MB\nРазмер памяти после оптимизации: 902.73 MB\nУменьшено на 60.2%\n",
          "output_type": "stream"
        },
        {
          "output_type": "display_data",
          "data": {
            "text/plain": "Reading dataset:   0%|          | 0/5 [00:00<?, ?it/s]",
            "application/vnd.jupyter.widget-view+json": {
              "version_major": 2,
              "version_minor": 0,
              "model_id": "715011d0945248aebbb82218e9e8459d"
            }
          },
          "metadata": {}
        },
        {
          "name": "stdout",
          "text": "Размер памяти исходного датафрейма 2269.69 MB\nРазмер памяти после оптимизации: 902.72 MB\nУменьшено на 60.2%\n",
          "output_type": "stream"
        },
        {
          "output_type": "display_data",
          "data": {
            "text/plain": "Reading dataset:   0%|          | 0/5 [00:00<?, ?it/s]",
            "application/vnd.jupyter.widget-view+json": {
              "version_major": 2,
              "version_minor": 0,
              "model_id": "f6f9ae547edb498db09ba88414054574"
            }
          },
          "metadata": {}
        },
        {
          "name": "stdout",
          "text": "Размер памяти исходного датафрейма 2269.53 MB\nРазмер памяти после оптимизации: 902.66 MB\nУменьшено на 60.2%\n",
          "output_type": "stream"
        },
        {
          "output_type": "display_data",
          "data": {
            "text/plain": "Reading dataset:   0%|          | 0/5 [00:00<?, ?it/s]",
            "application/vnd.jupyter.widget-view+json": {
              "version_major": 2,
              "version_minor": 0,
              "model_id": "cf020e482b814d1eafac1c587c7c45c3"
            }
          },
          "metadata": {}
        },
        {
          "name": "stdout",
          "text": "Размер памяти исходного датафрейма 2269.87 MB\nРазмер памяти после оптимизации: 902.79 MB\nУменьшено на 60.2%\n",
          "output_type": "stream"
        },
        {
          "output_type": "display_data",
          "data": {
            "text/plain": "Reading dataset:   0%|          | 0/5 [00:00<?, ?it/s]",
            "application/vnd.jupyter.widget-view+json": {
              "version_major": 2,
              "version_minor": 0,
              "model_id": "7328d3822a5644d5a53ae1bf299d18cf"
            }
          },
          "metadata": {}
        },
        {
          "name": "stdout",
          "text": "Размер памяти исходного датафрейма 2269.71 MB\nРазмер памяти после оптимизации: 902.72 MB\nУменьшено на 60.2%\n",
          "output_type": "stream"
        },
        {
          "output_type": "display_data",
          "data": {
            "text/plain": "Reading dataset:   0%|          | 0/5 [00:00<?, ?it/s]",
            "application/vnd.jupyter.widget-view+json": {
              "version_major": 2,
              "version_minor": 0,
              "model_id": "875bd0e5f1f74346bd17c52c336bd0f8"
            }
          },
          "metadata": {}
        },
        {
          "name": "stdout",
          "text": "Размер памяти исходного датафрейма 2269.71 MB\nРазмер памяти после оптимизации: 902.73 MB\nУменьшено на 60.2%\n",
          "output_type": "stream"
        },
        {
          "output_type": "display_data",
          "data": {
            "text/plain": "Reading dataset:   0%|          | 0/5 [00:00<?, ?it/s]",
            "application/vnd.jupyter.widget-view+json": {
              "version_major": 2,
              "version_minor": 0,
              "model_id": "437300016b3749f2852075e217ad5f69"
            }
          },
          "metadata": {}
        },
        {
          "name": "stdout",
          "text": "Размер памяти исходного датафрейма 2269.68 MB\nРазмер памяти после оптимизации: 902.71 MB\nУменьшено на 60.2%\n",
          "output_type": "stream"
        },
        {
          "output_type": "display_data",
          "data": {
            "text/plain": "Reading dataset:   0%|          | 0/5 [00:00<?, ?it/s]",
            "application/vnd.jupyter.widget-view+json": {
              "version_major": 2,
              "version_minor": 0,
              "model_id": "eb16a5cc73664e32bacfe1af53a781d9"
            }
          },
          "metadata": {}
        },
        {
          "name": "stdout",
          "text": "Размер памяти исходного датафрейма 2269.75 MB\nРазмер памяти после оптимизации: 902.74 MB\nУменьшено на 60.2%\n",
          "output_type": "stream"
        },
        {
          "output_type": "display_data",
          "data": {
            "text/plain": "Reading dataset:   0%|          | 0/5 [00:00<?, ?it/s]",
            "application/vnd.jupyter.widget-view+json": {
              "version_major": 2,
              "version_minor": 0,
              "model_id": "a383b31d85534a16a740546bd1adbf6c"
            }
          },
          "metadata": {}
        },
        {
          "name": "stdout",
          "text": "Размер памяти исходного датафрейма 2269.70 MB\nРазмер памяти после оптимизации: 902.72 MB\nУменьшено на 60.2%\n",
          "output_type": "stream"
        },
        {
          "output_type": "display_data",
          "data": {
            "text/plain": "Reading dataset:   0%|          | 0/5 [00:00<?, ?it/s]",
            "application/vnd.jupyter.widget-view+json": {
              "version_major": 2,
              "version_minor": 0,
              "model_id": "f8bc75cdda3c4a8cb8cb0f5e54630b6d"
            }
          },
          "metadata": {}
        },
        {
          "name": "stdout",
          "text": "Размер памяти исходного датафрейма 2269.71 MB\nРазмер памяти после оптимизации: 902.72 MB\nУменьшено на 60.2%\n",
          "output_type": "stream"
        }
      ]
    },
    {
      "cell_type": "code",
      "source": [
        "train_data = reduce_mem_usage_df(train_data)"
      ],
      "metadata": {
        "execution": {
          "iopub.status.busy": "2022-07-06T13:21:54.214555Z",
          "iopub.execute_input": "2022-07-06T13:21:54.214918Z",
          "iopub.status.idle": "2022-07-06T13:21:54.532026Z",
          "shell.execute_reply.started": "2022-07-06T13:21:54.214886Z",
          "shell.execute_reply": "2022-07-06T13:21:54.53116Z"
        },
        "trusted": true,
        "id": "6Lze5ld2BT2t"
      },
      "execution_count": null,
      "outputs": []
    },
    {
      "cell_type": "code",
      "source": [
        "train_targets = pd.read_csv(PATH_TO_TRAIN_TARGET)\n",
        "train_targets.head()"
      ],
      "metadata": {
        "execution": {
          "iopub.status.busy": "2022-07-07T14:48:36.221532Z",
          "iopub.execute_input": "2022-07-07T14:48:36.221965Z",
          "iopub.status.idle": "2022-07-07T14:48:36.551861Z",
          "shell.execute_reply.started": "2022-07-07T14:48:36.221930Z",
          "shell.execute_reply": "2022-07-07T14:48:36.551036Z"
        },
        "trusted": true,
        "id": "xwXeFbs8BT2t",
        "outputId": "1c95472f-d9f7-4281-8afb-22c66eb051d4"
      },
      "execution_count": null,
      "outputs": [
        {
          "execution_count": 11,
          "output_type": "execute_result",
          "data": {
            "text/plain": "   app_id  product  flag\n0       0        3     0\n1       1        1     0\n2       2        1     0\n3       3        1     0\n4       4        1     0",
            "text/html": "<div>\n<style scoped>\n    .dataframe tbody tr th:only-of-type {\n        vertical-align: middle;\n    }\n\n    .dataframe tbody tr th {\n        vertical-align: top;\n    }\n\n    .dataframe thead th {\n        text-align: right;\n    }\n</style>\n<table border=\"1\" class=\"dataframe\">\n  <thead>\n    <tr style=\"text-align: right;\">\n      <th></th>\n      <th>app_id</th>\n      <th>product</th>\n      <th>flag</th>\n    </tr>\n  </thead>\n  <tbody>\n    <tr>\n      <th>0</th>\n      <td>0</td>\n      <td>3</td>\n      <td>0</td>\n    </tr>\n    <tr>\n      <th>1</th>\n      <td>1</td>\n      <td>1</td>\n      <td>0</td>\n    </tr>\n    <tr>\n      <th>2</th>\n      <td>2</td>\n      <td>1</td>\n      <td>0</td>\n    </tr>\n    <tr>\n      <th>3</th>\n      <td>3</td>\n      <td>1</td>\n      <td>0</td>\n    </tr>\n    <tr>\n      <th>4</th>\n      <td>4</td>\n      <td>1</td>\n      <td>0</td>\n    </tr>\n  </tbody>\n</table>\n</div>"
          },
          "metadata": {}
        }
      ]
    },
    {
      "cell_type": "code",
      "source": [
        "merged_train_data = train_data.merge(train_targets[['app_id', 'product', 'flag']], on=['app_id'])"
      ],
      "metadata": {
        "execution": {
          "iopub.status.busy": "2022-07-07T14:48:36.553055Z",
          "iopub.execute_input": "2022-07-07T14:48:36.553767Z",
          "iopub.status.idle": "2022-07-07T14:48:37.859084Z",
          "shell.execute_reply.started": "2022-07-07T14:48:36.553724Z",
          "shell.execute_reply": "2022-07-07T14:48:37.857748Z"
        },
        "trusted": true,
        "id": "W_1f75t5BT2u"
      },
      "execution_count": null,
      "outputs": []
    },
    {
      "cell_type": "code",
      "source": [
        "merged_train_data.to_csv('./merged_train_data.csv', index=None)"
      ],
      "metadata": {
        "execution": {
          "iopub.status.busy": "2022-07-07T14:48:37.862005Z",
          "iopub.execute_input": "2022-07-07T14:48:37.862519Z",
          "iopub.status.idle": "2022-07-07T14:51:58.680680Z",
          "shell.execute_reply.started": "2022-07-07T14:48:37.862459Z",
          "shell.execute_reply": "2022-07-07T14:51:58.677295Z"
        },
        "trusted": true,
        "id": "ag8TAgCnBT2u"
      },
      "execution_count": null,
      "outputs": []
    },
    {
      "cell_type": "markdown",
      "source": [
        "## Model training"
      ],
      "metadata": {
        "id": "iobwwWITBT2u"
      }
    },
    {
      "cell_type": "code",
      "source": [
        "merged_train_data = pd.read_csv('merged_train_data.csv')"
      ],
      "metadata": {
        "execution": {
          "iopub.status.busy": "2022-07-07T15:00:39.435237Z",
          "iopub.execute_input": "2022-07-07T15:00:39.435699Z",
          "iopub.status.idle": "2022-07-07T15:01:22.287779Z",
          "shell.execute_reply.started": "2022-07-07T15:00:39.435656Z",
          "shell.execute_reply": "2022-07-07T15:01:22.286576Z"
        },
        "trusted": true,
        "id": "TMG8jpCOBT2u"
      },
      "execution_count": null,
      "outputs": []
    },
    {
      "cell_type": "code",
      "source": [
        "features = merged_train_data.columns[1:-1]\n",
        "targets = merged_train_data['flag']"
      ],
      "metadata": {
        "execution": {
          "iopub.status.busy": "2022-07-07T15:02:12.928134Z",
          "iopub.execute_input": "2022-07-07T15:02:12.928702Z",
          "iopub.status.idle": "2022-07-07T15:02:12.941686Z",
          "shell.execute_reply.started": "2022-07-07T15:02:12.928664Z",
          "shell.execute_reply": "2022-07-07T15:02:12.940238Z"
        },
        "trusted": true,
        "id": "fSXkMYyABT2u"
      },
      "execution_count": null,
      "outputs": []
    },
    {
      "cell_type": "code",
      "source": [
        "def lgb_model(data, tree_params: dict = {}):\n",
        "\n",
        "    cv          = StratifiedKFold(n_splits=5, random_state=100, shuffle=True)\n",
        "    oof         = np.zeros(len(data))\n",
        "    train_preds = np.zeros(len(data))\n",
        "    tree_params = tree_params\n",
        "    models      = []\n",
        "\n",
        "    for fold_, (train_idx, val_idx) in enumerate(cv.split(data, targets)):\n",
        "        print(f'Training with fold {fold_ + 1} started.')\n",
        "        lgb_model  = lgb.LGBMClassifier(**tree_params)\n",
        "        train, val =    data.iloc[train_idx],   data.iloc[val_idx]\n",
        "    \n",
        "        lgb_model.fit(train[features], train.flag.values, \n",
        "                  eval_set=[(val[features], val.flag.values)],\n",
        "                  early_stopping_rounds=50, verbose=50)\n",
        "    \n",
        "        oof[val_idx]   = lgb_model.predict_proba(val[features])[:, 1]\n",
        "        train_preds[train_idx] += lgb_model.predict_proba(train[features])[:, 1] / (cv.n_splits-1)\n",
        "\n",
        "        models.append(lgb_model)\n",
        "        print(f'Training with fold {fold_ + 1} completed.')\n",
        "    print('Train roc-auc', roc_auc_score(targets, train_preds))\n",
        "    print('CV roc-auc',    roc_auc_score(targets, oof))\n",
        "    return models"
      ],
      "metadata": {
        "execution": {
          "iopub.status.busy": "2022-07-07T15:02:13.809760Z",
          "iopub.execute_input": "2022-07-07T15:02:13.810611Z",
          "iopub.status.idle": "2022-07-07T15:02:13.825490Z",
          "shell.execute_reply.started": "2022-07-07T15:02:13.810562Z",
          "shell.execute_reply": "2022-07-07T15:02:13.823835Z"
        },
        "trusted": true,
        "id": "nI8-Fd0cBT2u"
      },
      "execution_count": null,
      "outputs": []
    },
    {
      "cell_type": "code",
      "source": [
        "models = lgb_model(data = merged_train_data, tree_params= {'objective': 'binary',\n",
        "                                            'metric':       'auc',\n",
        "                                            'learning_rate': 0.03,\n",
        "                                            'max_depth':        4,\n",
        "                                            'reg_lambda':       1,\n",
        "                                            'num_leaves':      32,\n",
        "                                            'n_jobs':          5,\n",
        "                                            'n_estimators':  1000 })"
      ],
      "metadata": {
        "execution": {
          "iopub.status.busy": "2022-07-07T15:02:14.915221Z",
          "iopub.execute_input": "2022-07-07T15:02:14.915978Z",
          "iopub.status.idle": "2022-07-07T15:26:14.083623Z",
          "shell.execute_reply.started": "2022-07-07T15:02:14.915932Z",
          "shell.execute_reply": "2022-07-07T15:26:14.081977Z"
        },
        "trusted": true,
        "id": "65x84dLUBT2u",
        "outputId": "0f2c209d-1187-46a9-abee-0920f0548663"
      },
      "execution_count": null,
      "outputs": [
        {
          "name": "stdout",
          "text": "Training with fold 1 started.\n[50]\tvalid_0's auc: 0.733137\n[100]\tvalid_0's auc: 0.746103\n[150]\tvalid_0's auc: 0.752614\n[200]\tvalid_0's auc: 0.757497\n[250]\tvalid_0's auc: 0.760822\n[300]\tvalid_0's auc: 0.763488\n[350]\tvalid_0's auc: 0.765372\n[400]\tvalid_0's auc: 0.766851\n[450]\tvalid_0's auc: 0.768053\n[500]\tvalid_0's auc: 0.769079\n[550]\tvalid_0's auc: 0.769888\n[600]\tvalid_0's auc: 0.770665\n[650]\tvalid_0's auc: 0.77122\n[700]\tvalid_0's auc: 0.771719\n[750]\tvalid_0's auc: 0.772241\n[800]\tvalid_0's auc: 0.772676\n[850]\tvalid_0's auc: 0.773158\n[900]\tvalid_0's auc: 0.773606\n[950]\tvalid_0's auc: 0.773959\n[1000]\tvalid_0's auc: 0.774381\nTraining with fold 1 completed.\nTraining with fold 2 started.\n[50]\tvalid_0's auc: 0.739377\n[100]\tvalid_0's auc: 0.751774\n[150]\tvalid_0's auc: 0.758753\n[200]\tvalid_0's auc: 0.763434\n[250]\tvalid_0's auc: 0.766473\n[300]\tvalid_0's auc: 0.769254\n[350]\tvalid_0's auc: 0.770994\n[400]\tvalid_0's auc: 0.772325\n[450]\tvalid_0's auc: 0.773182\n[500]\tvalid_0's auc: 0.774027\n[550]\tvalid_0's auc: 0.774711\n[600]\tvalid_0's auc: 0.775351\n[650]\tvalid_0's auc: 0.775878\n[700]\tvalid_0's auc: 0.776276\n[750]\tvalid_0's auc: 0.776664\n[800]\tvalid_0's auc: 0.777242\n[850]\tvalid_0's auc: 0.77756\n[900]\tvalid_0's auc: 0.777925\n[950]\tvalid_0's auc: 0.778219\n[1000]\tvalid_0's auc: 0.77847\nTraining with fold 2 completed.\nTraining with fold 3 started.\n[50]\tvalid_0's auc: 0.727823\n[100]\tvalid_0's auc: 0.740589\n[150]\tvalid_0's auc: 0.747873\n[200]\tvalid_0's auc: 0.753024\n[250]\tvalid_0's auc: 0.756176\n[300]\tvalid_0's auc: 0.758841\n[350]\tvalid_0's auc: 0.760724\n[400]\tvalid_0's auc: 0.76216\n[450]\tvalid_0's auc: 0.763497\n[500]\tvalid_0's auc: 0.764668\n[550]\tvalid_0's auc: 0.765545\n[600]\tvalid_0's auc: 0.76653\n[650]\tvalid_0's auc: 0.767264\n[700]\tvalid_0's auc: 0.767839\n[750]\tvalid_0's auc: 0.768467\n[800]\tvalid_0's auc: 0.768967\n[850]\tvalid_0's auc: 0.769594\n[900]\tvalid_0's auc: 0.770035\n[950]\tvalid_0's auc: 0.770517\n[1000]\tvalid_0's auc: 0.770897\nTraining with fold 3 completed.\nTraining with fold 4 started.\n[50]\tvalid_0's auc: 0.723943\n[100]\tvalid_0's auc: 0.737194\n[150]\tvalid_0's auc: 0.744018\n[200]\tvalid_0's auc: 0.748761\n[250]\tvalid_0's auc: 0.752048\n[300]\tvalid_0's auc: 0.754718\n[350]\tvalid_0's auc: 0.756725\n[400]\tvalid_0's auc: 0.758294\n[450]\tvalid_0's auc: 0.759429\n[500]\tvalid_0's auc: 0.760494\n[550]\tvalid_0's auc: 0.76151\n[600]\tvalid_0's auc: 0.762329\n[650]\tvalid_0's auc: 0.763165\n[700]\tvalid_0's auc: 0.763903\n[750]\tvalid_0's auc: 0.764429\n[800]\tvalid_0's auc: 0.764939\n[850]\tvalid_0's auc: 0.765399\n[900]\tvalid_0's auc: 0.765821\n[950]\tvalid_0's auc: 0.766176\n[1000]\tvalid_0's auc: 0.766544\nTraining with fold 4 completed.\nTraining with fold 5 started.\n[50]\tvalid_0's auc: 0.731824\n[100]\tvalid_0's auc: 0.744931\n[150]\tvalid_0's auc: 0.752295\n[200]\tvalid_0's auc: 0.757661\n[250]\tvalid_0's auc: 0.760999\n[300]\tvalid_0's auc: 0.763836\n[350]\tvalid_0's auc: 0.765978\n[400]\tvalid_0's auc: 0.767778\n[450]\tvalid_0's auc: 0.769112\n[500]\tvalid_0's auc: 0.770364\n[550]\tvalid_0's auc: 0.771332\n[600]\tvalid_0's auc: 0.772274\n[650]\tvalid_0's auc: 0.772985\n[700]\tvalid_0's auc: 0.773694\n[750]\tvalid_0's auc: 0.774384\n[800]\tvalid_0's auc: 0.774751\n[850]\tvalid_0's auc: 0.775202\n[900]\tvalid_0's auc: 0.775666\n[950]\tvalid_0's auc: 0.776209\n[1000]\tvalid_0's auc: 0.776495\nTraining with fold 5 completed.\nTrain roc-auc 0.8220032905230354\nCV roc-auc 0.7733463148578155\n",
          "output_type": "stream"
        }
      ]
    },
    {
      "cell_type": "code",
      "source": [
        "for num_model, model in enumerate(models):\n",
        "    file_name_model = f'model{num_model + 1}.txt'\n",
        "    model.booster_.save_model(file_name_model)"
      ],
      "metadata": {
        "execution": {
          "iopub.status.busy": "2022-07-07T15:26:14.086146Z",
          "iopub.execute_input": "2022-07-07T15:26:14.086571Z",
          "iopub.status.idle": "2022-07-07T15:26:14.277610Z",
          "shell.execute_reply.started": "2022-07-07T15:26:14.086517Z",
          "shell.execute_reply": "2022-07-07T15:26:14.276433Z"
        },
        "trusted": true,
        "id": "_MVCUDY6BT2u"
      },
      "execution_count": null,
      "outputs": []
    },
    {
      "cell_type": "markdown",
      "source": [
        "## Testing"
      ],
      "metadata": {
        "id": "_px21TVWBT2u"
      }
    },
    {
      "cell_type": "code",
      "source": [
        "test_data = prepare_transactions_dataset(PATH_TO_TEST, \n",
        "                                         num_parts_to_preprocess_at_once=5, \n",
        "                                         num_parts_total=50,\n",
        "                                         agg_funcs=['mean', 'sum'],\n",
        "                                         cat_cols = ['mcc', 'mcc_category', 'day_of_week'])"
      ],
      "metadata": {
        "execution": {
          "iopub.status.busy": "2022-07-07T15:36:41.355854Z",
          "iopub.execute_input": "2022-07-07T15:36:41.356560Z",
          "iopub.status.idle": "2022-07-07T15:45:43.707930Z",
          "shell.execute_reply.started": "2022-07-07T15:36:41.356514Z",
          "shell.execute_reply": "2022-07-07T15:45:43.705190Z"
        },
        "trusted": true,
        "id": "Ni1TeH_6BT2u",
        "outputId": "f81212da-0ee7-4d22-bf9a-399acf6611a3",
        "colab": {
          "referenced_widgets": [
            "3108c2d85f674fa5a01cd60b5e8797f7",
            "1f1288d98b554dd5b8b53417766c40c1",
            "710da1529ed74e2fa7b0f26a2d57c0fa",
            "6b41027818194fbea4e36cc3ae92ed2e",
            "065d2b2058f44d73a01b14c60952736f",
            "4e1ceafef7d54699baaf8f83b4965b1c",
            "9d7032d302434b9e9905c81edd04f725",
            "a050cdc8378747eebb1d9b9f43e1fe8f",
            "d3720073d95c4ee79eef6c8ff330c1d5",
            "a0df5633b0d34f3aa1d042c775b9a24e",
            "82a19cfc65f647e2a0ec9d06fbbb0e5c"
          ]
        }
      },
      "execution_count": null,
      "outputs": [
        {
          "output_type": "display_data",
          "data": {
            "text/plain": "  0%|          | 0/10 [00:00<?, ?it/s]",
            "application/vnd.jupyter.widget-view+json": {
              "version_major": 2,
              "version_minor": 0,
              "model_id": "3108c2d85f674fa5a01cd60b5e8797f7"
            }
          },
          "metadata": {}
        },
        {
          "output_type": "display_data",
          "data": {
            "text/plain": "Reading dataset:   0%|          | 0/5 [00:00<?, ?it/s]",
            "application/vnd.jupyter.widget-view+json": {
              "version_major": 2,
              "version_minor": 0,
              "model_id": "1f1288d98b554dd5b8b53417766c40c1"
            }
          },
          "metadata": {}
        },
        {
          "name": "stdout",
          "text": "Размер памяти исходного датафрейма 1453.08 MB\nРазмер памяти после оптимизации: 577.93 MB\nУменьшено на 60.2%\n",
          "output_type": "stream"
        },
        {
          "output_type": "display_data",
          "data": {
            "text/plain": "Reading dataset:   0%|          | 0/5 [00:00<?, ?it/s]",
            "application/vnd.jupyter.widget-view+json": {
              "version_major": 2,
              "version_minor": 0,
              "model_id": "710da1529ed74e2fa7b0f26a2d57c0fa"
            }
          },
          "metadata": {}
        },
        {
          "name": "stdout",
          "text": "Размер памяти исходного датафрейма 1453.09 MB\nРазмер памяти после оптимизации: 577.94 MB\nУменьшено на 60.2%\n",
          "output_type": "stream"
        },
        {
          "output_type": "display_data",
          "data": {
            "text/plain": "Reading dataset:   0%|          | 0/5 [00:00<?, ?it/s]",
            "application/vnd.jupyter.widget-view+json": {
              "version_major": 2,
              "version_minor": 0,
              "model_id": "6b41027818194fbea4e36cc3ae92ed2e"
            }
          },
          "metadata": {}
        },
        {
          "name": "stdout",
          "text": "Размер памяти исходного датафрейма 1453.09 MB\nРазмер памяти после оптимизации: 577.93 MB\nУменьшено на 60.2%\n",
          "output_type": "stream"
        },
        {
          "output_type": "display_data",
          "data": {
            "text/plain": "Reading dataset:   0%|          | 0/5 [00:00<?, ?it/s]",
            "application/vnd.jupyter.widget-view+json": {
              "version_major": 2,
              "version_minor": 0,
              "model_id": "065d2b2058f44d73a01b14c60952736f"
            }
          },
          "metadata": {}
        },
        {
          "name": "stdout",
          "text": "Размер памяти исходного датафрейма 1452.98 MB\nРазмер памяти после оптимизации: 577.89 MB\nУменьшено на 60.2%\n",
          "output_type": "stream"
        },
        {
          "output_type": "display_data",
          "data": {
            "text/plain": "Reading dataset:   0%|          | 0/5 [00:00<?, ?it/s]",
            "application/vnd.jupyter.widget-view+json": {
              "version_major": 2,
              "version_minor": 0,
              "model_id": "4e1ceafef7d54699baaf8f83b4965b1c"
            }
          },
          "metadata": {}
        },
        {
          "name": "stdout",
          "text": "Размер памяти исходного датафрейма 1453.16 MB\nРазмер памяти после оптимизации: 577.96 MB\nУменьшено на 60.2%\n",
          "output_type": "stream"
        },
        {
          "output_type": "display_data",
          "data": {
            "text/plain": "Reading dataset:   0%|          | 0/5 [00:00<?, ?it/s]",
            "application/vnd.jupyter.widget-view+json": {
              "version_major": 2,
              "version_minor": 0,
              "model_id": "9d7032d302434b9e9905c81edd04f725"
            }
          },
          "metadata": {}
        },
        {
          "name": "stdout",
          "text": "Размер памяти исходного датафрейма 1453.13 MB\nРазмер памяти после оптимизации: 577.95 MB\nУменьшено на 60.2%\n",
          "output_type": "stream"
        },
        {
          "output_type": "display_data",
          "data": {
            "text/plain": "Reading dataset:   0%|          | 0/5 [00:00<?, ?it/s]",
            "application/vnd.jupyter.widget-view+json": {
              "version_major": 2,
              "version_minor": 0,
              "model_id": "a050cdc8378747eebb1d9b9f43e1fe8f"
            }
          },
          "metadata": {}
        },
        {
          "name": "stdout",
          "text": "Размер памяти исходного датафрейма 1453.08 MB\nРазмер памяти после оптимизации: 577.93 MB\nУменьшено на 60.2%\n",
          "output_type": "stream"
        },
        {
          "output_type": "display_data",
          "data": {
            "text/plain": "Reading dataset:   0%|          | 0/5 [00:00<?, ?it/s]",
            "application/vnd.jupyter.widget-view+json": {
              "version_major": 2,
              "version_minor": 0,
              "model_id": "d3720073d95c4ee79eef6c8ff330c1d5"
            }
          },
          "metadata": {}
        },
        {
          "name": "stdout",
          "text": "Размер памяти исходного датафрейма 1453.08 MB\nРазмер памяти после оптимизации: 577.93 MB\nУменьшено на 60.2%\n",
          "output_type": "stream"
        },
        {
          "output_type": "display_data",
          "data": {
            "text/plain": "Reading dataset:   0%|          | 0/5 [00:00<?, ?it/s]",
            "application/vnd.jupyter.widget-view+json": {
              "version_major": 2,
              "version_minor": 0,
              "model_id": "a0df5633b0d34f3aa1d042c775b9a24e"
            }
          },
          "metadata": {}
        },
        {
          "name": "stdout",
          "text": "Размер памяти исходного датафрейма 1453.10 MB\nРазмер памяти после оптимизации: 577.94 MB\nУменьшено на 60.2%\n",
          "output_type": "stream"
        },
        {
          "output_type": "display_data",
          "data": {
            "text/plain": "Reading dataset:   0%|          | 0/5 [00:00<?, ?it/s]",
            "application/vnd.jupyter.widget-view+json": {
              "version_major": 2,
              "version_minor": 0,
              "model_id": "82a19cfc65f647e2a0ec9d06fbbb0e5c"
            }
          },
          "metadata": {}
        },
        {
          "name": "stdout",
          "text": "Размер памяти исходного датафрейма 1453.09 MB\nРазмер памяти после оптимизации: 577.93 MB\nУменьшено на 60.2%\n",
          "output_type": "stream"
        }
      ]
    },
    {
      "cell_type": "code",
      "source": [
        "test_target =  pd.read_csv(PATH_TO_TEST_TARGET)\n",
        "test_target.head()\n",
        "merged_test_data = test_data.merge(test_target[['app_id', 'product']], on='app_id')\n",
        "merged_test_data.to_csv('./merged_test_data.csv', index=None)"
      ],
      "metadata": {
        "execution": {
          "iopub.status.busy": "2022-07-07T15:46:11.164151Z",
          "iopub.execute_input": "2022-07-07T15:46:11.164809Z",
          "iopub.status.idle": "2022-07-07T15:47:58.164284Z",
          "shell.execute_reply.started": "2022-07-07T15:46:11.164759Z",
          "shell.execute_reply": "2022-07-07T15:47:58.163185Z"
        },
        "trusted": true,
        "id": "0FzAshzIBT2v"
      },
      "execution_count": null,
      "outputs": []
    },
    {
      "cell_type": "code",
      "source": [
        "score = np.zeros(len(merged_test_data))\n",
        "\n",
        "for model in tqdm.tqdm_notebook(models):\n",
        "    score += model.predict_proba(merged_test_data[features])[:, 1] / len(models)\n",
        "    \n",
        "submission = pd.DataFrame({\n",
        "    'app_id' : merged_test_data.app_id.values,\n",
        "    'flag': score\n",
        "}) \n",
        "\n",
        "submission.to_csv(f'sub_model.csv', index=None)"
      ],
      "metadata": {
        "execution": {
          "iopub.status.busy": "2022-07-07T15:49:28.193401Z",
          "iopub.execute_input": "2022-07-07T15:49:28.193972Z",
          "iopub.status.idle": "2022-07-07T15:51:00.985242Z",
          "shell.execute_reply.started": "2022-07-07T15:49:28.193919Z",
          "shell.execute_reply": "2022-07-07T15:51:00.983679Z"
        },
        "trusted": true,
        "id": "I6DvWBQIBT2v",
        "outputId": "1a25aac3-2a56-4a8c-e29d-f0b882d8a189",
        "colab": {
          "referenced_widgets": [
            "3320a5ee24b0494389626b91dcbc0b89"
          ]
        }
      },
      "execution_count": null,
      "outputs": [
        {
          "output_type": "display_data",
          "data": {
            "text/plain": "  0%|          | 0/5 [00:00<?, ?it/s]",
            "application/vnd.jupyter.widget-view+json": {
              "version_major": 2,
              "version_minor": 0,
              "model_id": "3320a5ee24b0494389626b91dcbc0b89"
            }
          },
          "metadata": {}
        }
      ]
    },
    {
      "cell_type": "code",
      "source": [
        "submission.tail()"
      ],
      "metadata": {
        "execution": {
          "iopub.status.busy": "2022-07-07T15:51:14.615108Z",
          "iopub.execute_input": "2022-07-07T15:51:14.615557Z",
          "iopub.status.idle": "2022-07-07T15:51:14.637184Z",
          "shell.execute_reply.started": "2022-07-07T15:51:14.615521Z",
          "shell.execute_reply": "2022-07-07T15:51:14.635755Z"
        },
        "trusted": true,
        "id": "j17zSryvBT2v",
        "outputId": "ba045c56-4eca-49f3-88fc-5f04cb577f70"
      },
      "execution_count": null,
      "outputs": [
        {
          "execution_count": 30,
          "output_type": "execute_result",
          "data": {
            "text/plain": "         app_id      flag\n502711  1580438  0.011224\n502712  1580439  0.011287\n502713  1580440  0.029978\n502714  1580441  0.024101\n502715  1580442  0.014041",
            "text/html": "<div>\n<style scoped>\n    .dataframe tbody tr th:only-of-type {\n        vertical-align: middle;\n    }\n\n    .dataframe tbody tr th {\n        vertical-align: top;\n    }\n\n    .dataframe thead th {\n        text-align: right;\n    }\n</style>\n<table border=\"1\" class=\"dataframe\">\n  <thead>\n    <tr style=\"text-align: right;\">\n      <th></th>\n      <th>app_id</th>\n      <th>flag</th>\n    </tr>\n  </thead>\n  <tbody>\n    <tr>\n      <th>502711</th>\n      <td>1580438</td>\n      <td>0.011224</td>\n    </tr>\n    <tr>\n      <th>502712</th>\n      <td>1580439</td>\n      <td>0.011287</td>\n    </tr>\n    <tr>\n      <th>502713</th>\n      <td>1580440</td>\n      <td>0.029978</td>\n    </tr>\n    <tr>\n      <th>502714</th>\n      <td>1580441</td>\n      <td>0.024101</td>\n    </tr>\n    <tr>\n      <th>502715</th>\n      <td>1580442</td>\n      <td>0.014041</td>\n    </tr>\n  </tbody>\n</table>\n</div>"
          },
          "metadata": {}
        }
      ]
    },
    {
      "cell_type": "code",
      "source": [],
      "metadata": {
        "id": "XBRNc2ToBT2v"
      },
      "execution_count": null,
      "outputs": []
    }
  ]
}